{
 "cells": [
  {
   "cell_type": "code",
   "execution_count": 1,
   "id": "b6cf00d4-b9fb-4902-8985-28e6616499e5",
   "metadata": {
    "editable": true,
    "slideshow": {
     "slide_type": ""
    },
    "tags": []
   },
   "outputs": [],
   "source": [
    "import pandas as pd"
   ]
  },
  {
   "cell_type": "code",
   "execution_count": 3,
   "id": "968539cd-fd5c-4da0-b1a7-759e7a0101d9",
   "metadata": {},
   "outputs": [],
   "source": [
    "data={\n",
    "  'ID': [1, 2, 3, 4, 5, 6],\n",
    "    'Name': ['James', 'Aarav', 'Oliver', 'Lukas', 'Kabir', 'Jack'],\n",
    "    'Age': [28, 35, 42, 30, 26, 40],\n",
    "    'Country': ['USA', 'India', 'UK', 'Germany', 'Canada', 'Australia'],\n",
    "    'Sales': [300, 750, 220, 890, 680, 210]\n",
    "}"
   ]
  },
  {
   "cell_type": "code",
   "execution_count": 5,
   "id": "451614a2-ce3a-4bcb-9b53-54be27a5b3a7",
   "metadata": {},
   "outputs": [
    {
     "name": "stdout",
     "output_type": "stream",
     "text": [
      "Originl Dataset:\n",
      "   ID    Name  Age    Country  Sales\n",
      "0   1   James   28        USA    300\n",
      "1   2   Aarav   35      India    750\n",
      "2   3  Oliver   42         UK    220\n",
      "3   4   Lukas   30    Germany    890\n",
      "4   5   Kabir   26     Canada    680\n",
      "5   6    Jack   40  Australia    210\n"
     ]
    }
   ],
   "source": [
    "df=pd.DataFrame(data)\n",
    "print(\"Originl Dataset:\")\n",
    "print(df)"
   ]
  },
  {
   "cell_type": "code",
   "execution_count": 7,
   "id": "83f0c17b-ffe3-499c-8ad1-a88269ac8df5",
   "metadata": {},
   "outputs": [
    {
     "name": "stdout",
     "output_type": "stream",
     "text": [
      "\n",
      "Character Map(uppercase Names):\n",
      "\n",
      "   ID    Name Name_Upper\n",
      "0   1   James      JAMES\n",
      "1   2   Aarav      AARAV\n",
      "2   3  Oliver     OLIVER\n",
      "3   4   Lukas      LUKAS\n",
      "4   5   Kabir      KABIR\n",
      "5   6    Jack       JACK\n"
     ]
    }
   ],
   "source": [
    "#convert Name into uppercase into new column\n",
    "df['Name_Upper']=df['Name'].str.upper()\n",
    "print(\"\\nCharacter Map(uppercase Names):\\n\")\n",
    "print(df[['ID','Name','Name_Upper']])"
   ]
  },
  {
   "cell_type": "code",
   "execution_count": 9,
   "id": "3a6670f3-229c-4164-95b5-1a02adbf8349",
   "metadata": {},
   "outputs": [
    {
     "name": "stdout",
     "output_type": "stream",
     "text": [
      "\n",
      "Multicast (Modified Copies):\n",
      "\n",
      "Copy1(Sales Increased):\n",
      "   ID    Name  Age    Country  Sales Name_Upper\n",
      "0   1   James   28        USA  330.0      JAMES\n",
      "1   2   Aarav   35      India  825.0      AARAV\n",
      "2   3  Oliver   42         UK  242.0     OLIVER\n",
      "3   4   Lukas   30    Germany  979.0      LUKAS\n",
      "4   5   Kabir   26     Canada  748.0      KABIR\n",
      "5   6    Jack   40  Australia  231.0       JACK\n",
      "\n",
      "Copy 2(Age Increased):\n",
      "   ID    Name  Age    Country  Sales Name_Upper\n",
      "0   1   James   33        USA    300      JAMES\n",
      "1   2   Aarav   40      India    750      AARAV\n",
      "2   3  Oliver   47         UK    220     OLIVER\n",
      "3   4   Lukas   35    Germany    890      LUKAS\n",
      "4   5   Kabir   31     Canada    680      KABIR\n",
      "5   6    Jack   45  Australia    210       JACK\n"
     ]
    }
   ],
   "source": [
    "#Multicast : Create two copies of the dataset\n",
    "df_copy1=df.copy()\n",
    "df_copy2=df.copy()\n",
    "\n",
    "#Transformation on each copy\n",
    "df_copy1['Sales']*=1.1\n",
    "df_copy2['Age']+=5\n",
    "\n",
    "print(\"\\nMulticast (Modified Copies):\\n\")\n",
    "print(\"Copy1(Sales Increased):\")\n",
    "print(df_copy1)\n",
    "print(\"\\nCopy 2(Age Increased):\")\n",
    "print(df_copy2)"
   ]
  },
  {
   "cell_type": "code",
   "execution_count": 11,
   "id": "604de0cf-44bc-4357-b0fe-84a609a4b583",
   "metadata": {},
   "outputs": [
    {
     "name": "stdout",
     "output_type": "stream",
     "text": [
      "\n",
      "Conditional Split:\n",
      "High Sales: \n",
      "   ID   Name  Age  Country  Sales Name_Upper\n",
      "1   2  Aarav   35    India    750      AARAV\n",
      "3   4  Lukas   30  Germany    890      LUKAS\n",
      "4   5  Kabir   26   Canada    680      KABIR\n",
      "\n",
      "Low Sales:\n",
      "   ID    Name  Age    Country  Sales Name_Upper\n",
      "0   1   James   28        USA    300      JAMES\n",
      "2   3  Oliver   42         UK    220     OLIVER\n",
      "5   6    Jack   40  Australia    210       JACK\n"
     ]
    }
   ],
   "source": [
    "#conditional split: sales\n",
    "high_sales=df[df['Sales']>300]\n",
    "low_sales=df[df['Sales']<=300]\n",
    "print(\"\\nConditional Split:\")\n",
    "print(\"High Sales: \")\n",
    "print(high_sales)\n",
    "print(\"\\nLow Sales:\")\n",
    "print(low_sales)"
   ]
  },
  {
   "cell_type": "code",
   "execution_count": 13,
   "id": "e4c927bc-eef9-4a43-a4fb-c1b379eeee85",
   "metadata": {},
   "outputs": [
    {
     "name": "stdout",
     "output_type": "stream",
     "text": [
      "\n",
      "Aggregation (Total Sales by Country):\n",
      "     Country  Sales\n",
      "0  Australia    210\n",
      "1     Canada    680\n",
      "2    Germany    890\n",
      "3      India    750\n",
      "4         UK    220\n",
      "5        USA    300\n"
     ]
    }
   ],
   "source": [
    "#Aggregate data e.g. calculate total sales by country.\n",
    "\n",
    "agg_df=df.groupby('Country')['Sales'].sum().reset_index()\n",
    "print(\"\\nAggregation (Total Sales by Country):\")\n",
    "print(agg_df)"
   ]
  },
  {
   "cell_type": "code",
   "execution_count": 15,
   "id": "4b8c9d07-86f7-4a81-ae7b-2863907daa87",
   "metadata": {},
   "outputs": [
    {
     "name": "stdout",
     "output_type": "stream",
     "text": [
      "/nSort (Descending Sales):\n",
      "   ID    Name  Age    Country  Sales Name_Upper\n",
      "3   4   Lukas   30    Germany    890      LUKAS\n",
      "1   2   Aarav   35      India    750      AARAV\n",
      "4   5   Kabir   26     Canada    680      KABIR\n",
      "0   1   James   28        USA    300      JAMES\n",
      "2   3  Oliver   42         UK    220     OLIVER\n",
      "5   6    Jack   40  Australia    210       JACK\n"
     ]
    }
   ],
   "source": [
    "#Sort:Sort the dataset by Sales in descending order\n",
    "\n",
    "sorted_df=df.sort_values(by='Sales',ascending=False)\n",
    "print(\"/nSort (Descending Sales):\")\n",
    "print(sorted_df)"
   ]
  },
  {
   "cell_type": "code",
   "execution_count": 17,
   "id": "ca578f7e-571c-49c8-84e7-10d5bbb7b4fe",
   "metadata": {},
   "outputs": [
    {
     "name": "stdout",
     "output_type": "stream",
     "text": [
      "   ID    Name  Sales Sales_Category\n",
      "0   1   James    300            Low\n",
      "1   2   Aarav    750           High\n",
      "2   3  Oliver    220            Low\n",
      "3   4   Lukas    890           High\n",
      "4   5   Kabir    680           High\n",
      "5   6    Jack    210            Low\n"
     ]
    }
   ],
   "source": [
    "#Derived column :Categorize sales as 'High' or'Low'\n",
    "df['Sales_Category']=df['Sales'].apply(lambda x:'High' if x>300 else 'Low')\n",
    "print(df[['ID','Name','Sales','Sales_Category']])"
   ]
  },
  {
   "cell_type": "code",
   "execution_count": null,
   "id": "159ee68d-8f11-47a1-92f8-a1e05f6d8ab6",
   "metadata": {},
   "outputs": [],
   "source": []
  },
  {
   "cell_type": "code",
   "execution_count": null,
   "id": "5f488e1e-249c-43fa-8362-068cf10181e4",
   "metadata": {},
   "outputs": [],
   "source": []
  },
  {
   "cell_type": "code",
   "execution_count": null,
   "id": "83d686b3-3c25-43e0-98fb-4683becb1687",
   "metadata": {},
   "outputs": [],
   "source": []
  },
  {
   "cell_type": "code",
   "execution_count": null,
   "id": "11003c4f-406d-4278-a6da-e991c49366ef",
   "metadata": {},
   "outputs": [],
   "source": []
  },
  {
   "cell_type": "code",
   "execution_count": null,
   "id": "02e2b1f3-fcbb-46d2-9319-a7cf6f2c4ded",
   "metadata": {},
   "outputs": [],
   "source": []
  },
  {
   "cell_type": "code",
   "execution_count": null,
   "id": "c948a094-de2f-4677-86eb-9c775ef87d09",
   "metadata": {},
   "outputs": [],
   "source": []
  },
  {
   "cell_type": "code",
   "execution_count": null,
   "id": "8b1ba3e2-46a2-4023-ba9a-bad37d654fcb",
   "metadata": {},
   "outputs": [],
   "source": []
  },
  {
   "cell_type": "code",
   "execution_count": null,
   "id": "55bbff2e-9b58-4a53-a9a5-afa96d4c658d",
   "metadata": {},
   "outputs": [],
   "source": []
  },
  {
   "cell_type": "code",
   "execution_count": null,
   "id": "be2397bd-ad38-46d5-bf98-49d630b40d14",
   "metadata": {},
   "outputs": [],
   "source": []
  },
  {
   "cell_type": "code",
   "execution_count": null,
   "id": "3a7113d6-a497-4da2-b959-00ad7694cf87",
   "metadata": {},
   "outputs": [],
   "source": []
  },
  {
   "cell_type": "code",
   "execution_count": null,
   "id": "1854a44f-c121-4b7a-a956-4207aec131cd",
   "metadata": {},
   "outputs": [],
   "source": []
  },
  {
   "cell_type": "code",
   "execution_count": null,
   "id": "1484c74d-47fb-4ffe-a800-abd79418d2cd",
   "metadata": {},
   "outputs": [],
   "source": [
    "\n"
   ]
  }
 ],
 "metadata": {
  "kernelspec": {
   "display_name": "Python 3 (ipykernel)",
   "language": "python",
   "name": "python3"
  },
  "language_info": {
   "codemirror_mode": {
    "name": "ipython",
    "version": 3
   },
   "file_extension": ".py",
   "mimetype": "text/x-python",
   "name": "python",
   "nbconvert_exporter": "python",
   "pygments_lexer": "ipython3",
   "version": "3.12.4"
  }
 },
 "nbformat": 4,
 "nbformat_minor": 5
}
